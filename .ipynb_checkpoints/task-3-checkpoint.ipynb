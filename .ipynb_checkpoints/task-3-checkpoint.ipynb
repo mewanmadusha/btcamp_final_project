{
 "cells": [
  {
   "cell_type": "code",
   "execution_count": 1,
   "id": "f5d60155-a5d6-4efa-989a-beede47a8e8e",
   "metadata": {},
   "outputs": [],
   "source": [
    "from pymongo import MongoClient"
   ]
  },
  {
   "cell_type": "code",
   "execution_count": 2,
   "id": "b400cdea-c2f0-4542-b688-7e2d6153afea",
   "metadata": {},
   "outputs": [],
   "source": [
    "# Connect to MongoDB\n",
    "client = MongoClient('mongodb://localhost:27017/')\n",
    "db = client['finalDatabase']"
   ]
  },
  {
   "cell_type": "code",
   "execution_count": 8,
   "id": "90d8ab9a-d2b8-49df-9531-6d704086d35a",
   "metadata": {},
   "outputs": [],
   "source": [
    "# Here i have defined collections to provided the \n",
    "# comments and additional resources\n",
    "comments_collection = db['comments']\n",
    "annotations_collection = db['annotations']\n",
    "additional_sources_collection = db['additional_sources']"
   ]
  },
  {
   "cell_type": "code",
   "execution_count": 22,
   "id": "b2fc3728-4325-4a51-968d-b17985ca91d8",
   "metadata": {},
   "outputs": [
    {
     "data": {
      "text/plain": [
       "Collection(Database(MongoClient(host=['localhost:27017'], document_class=dict, tz_aware=False, connect=True), 'finalDatabase'), 'comments')"
      ]
     },
     "execution_count": 22,
     "metadata": {},
     "output_type": "execute_result"
    }
   ],
   "source": [
    "# schema creation\n",
    "# MongoDB won't enforce this, it's just a reference and validate\n",
    "comment_validation = {\n",
    "    '$jsonSchema': {\n",
    "        'bsonType': 'object',\n",
    "        'required': ['username', 'comment', 'date', 'data_point_id'],\n",
    "        'properties': {\n",
    "            'username': {\n",
    "                'bsonType': 'string',\n",
    "                'description': 'must be a string and is required'\n",
    "            },\n",
    "            'comment': {\n",
    "                'bsonType': 'string',\n",
    "                'description': 'must be a string and is required'\n",
    "            },\n",
    "            'date': {\n",
    "                'bsonType': 'date',\n",
    "                'description': 'must be a date and is required'\n",
    "            },\n",
    "            'data_point_id': {\n",
    "                'bsonType': 'objectId',\n",
    "                'description': 'must be an objectId and is required'\n",
    "            }\n",
    "        }\n",
    "    }\n",
    "}\n",
    "\n",
    "# Apply the schema validation rules to the 'comments' collection\n",
    "db.create_collection('comments', validator=comment_validation)"
   ]
  },
  {
   "cell_type": "code",
   "execution_count": 23,
   "id": "5585862a-ea0a-4eb6-a42c-8b17bbabcf95",
   "metadata": {},
   "outputs": [
    {
     "data": {
      "text/plain": [
       "Collection(Database(MongoClient(host=['localhost:27017'], document_class=dict, tz_aware=False, connect=True), 'finalDatabase'), 'annotations')"
      ]
     },
     "execution_count": 23,
     "metadata": {},
     "output_type": "execute_result"
    }
   ],
   "source": [
    "annotation_validation = {\n",
    "    '$jsonSchema': {\n",
    "        'bsonType': 'object',\n",
    "        'required': ['username', 'comment', 'date', 'data_point_id'],\n",
    "        'properties': {\n",
    "            'username': {\n",
    "                'bsonType': 'string',\n",
    "                'description': 'must be a string and is required'\n",
    "            },\n",
    "            'annotation': {\n",
    "                'bsonType': 'string',\n",
    "                'description': 'must be a string and is required'\n",
    "            },\n",
    "            'date': {\n",
    "                'bsonType': 'date',\n",
    "                'description': 'must be a date and is required'\n",
    "            },\n",
    "            'data_point_id': {\n",
    "                'bsonType': 'objectId',\n",
    "                'description': 'must be an objectId and is required'\n",
    "            }\n",
    "        }\n",
    "    }\n",
    "}\n",
    "\n",
    "# Apply the schema validation rules to the 'annotation' collection\n",
    "db.create_collection('annotations', validator=annotation_validation)"
   ]
  },
  {
   "cell_type": "code",
   "execution_count": 24,
   "id": "09a4679e-ef88-4b42-b4a9-ab423ef86e94",
   "metadata": {},
   "outputs": [
    {
     "data": {
      "text/plain": [
       "Collection(Database(MongoClient(host=['localhost:27017'], document_class=dict, tz_aware=False, connect=True), 'finalDatabase'), 'additional_sources')"
      ]
     },
     "execution_count": 24,
     "metadata": {},
     "output_type": "execute_result"
    }
   ],
   "source": [
    "additional_sources_validation = {\n",
    "    '$jsonSchema': {\n",
    "        'bsonType': 'object',\n",
    "        'required': ['username', 'comment', 'date', 'data_point_id'],\n",
    "        'properties': {\n",
    "            'username': {\n",
    "                'bsonType': 'string',\n",
    "                'description': 'must be a string and is required'\n",
    "            },\n",
    "            'additional_sources': {\n",
    "                'bsonType': 'string',\n",
    "                'description': 'must be a string and is required'\n",
    "            },\n",
    "            'date': {\n",
    "                'bsonType': 'date',\n",
    "                'description': 'must be a date and is required'\n",
    "            },\n",
    "            'data_point_id': {\n",
    "                'bsonType': 'objectId',\n",
    "                'description': 'must be an objectId and is required'\n",
    "            }\n",
    "        }\n",
    "    }\n",
    "}\n",
    "\n",
    "# Apply the schema validation rules to the 'annotation' collection\n",
    "db.create_collection('additional_sources', validator=additional_sources_validation)"
   ]
  },
  {
   "cell_type": "code",
   "execution_count": null,
   "id": "3ffade48-f66a-4713-b99a-f204bc31aa80",
   "metadata": {},
   "outputs": [],
   "source": []
  }
 ],
 "metadata": {
  "kernelspec": {
   "display_name": "Python 3 (ipykernel)",
   "language": "python",
   "name": "python3"
  },
  "language_info": {
   "codemirror_mode": {
    "name": "ipython",
    "version": 3
   },
   "file_extension": ".py",
   "mimetype": "text/x-python",
   "name": "python",
   "nbconvert_exporter": "python",
   "pygments_lexer": "ipython3",
   "version": "3.10.4"
  }
 },
 "nbformat": 4,
 "nbformat_minor": 5
}
